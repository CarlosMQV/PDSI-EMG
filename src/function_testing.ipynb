{
 "cells": [
  {
   "cell_type": "markdown",
   "metadata": {},
   "source": [
    "# Importación de librerías"
   ]
  },
  {
   "cell_type": "code",
   "execution_count": 1,
   "metadata": {},
   "outputs": [],
   "source": [
    "from tqdm import tqdm\n",
    "import pandas as pd\n",
    "import matplotlib.pyplot as plt\n",
    "from sklearn.model_selection import train_test_split\n",
    "import filters_and_features as ff\n",
    "import data_processor as dp"
   ]
  },
  {
   "cell_type": "markdown",
   "metadata": {},
   "source": [
    "# Importación de datos"
   ]
  },
  {
   "cell_type": "code",
   "execution_count": 2,
   "metadata": {},
   "outputs": [],
   "source": [
    "df = dp.lectura()"
   ]
  },
  {
   "cell_type": "markdown",
   "metadata": {},
   "source": [
    "Se crean los dos tipos de dataframes"
   ]
  },
  {
   "cell_type": "code",
   "execution_count": 7,
   "metadata": {},
   "outputs": [],
   "source": [
    "df_global = dp.create_df_global(df)\n",
    "df_pure = dp.create_df_pure(df)"
   ]
  },
  {
   "cell_type": "markdown",
   "metadata": {},
   "source": [
    "Se crea el dataframe df_block (otra celda porque es pesado)"
   ]
  },
  {
   "cell_type": "code",
   "execution_count": 3,
   "metadata": {},
   "outputs": [],
   "source": [
    "df_block = dp.create_df_block(df)\n",
    "del df"
   ]
  },
  {
   "cell_type": "code",
   "execution_count": null,
   "metadata": {},
   "outputs": [],
   "source": [
    "df_block['stimulus'].value_counts()"
   ]
  },
  {
   "cell_type": "markdown",
   "metadata": {},
   "source": [
    "Visualización comparativa"
   ]
  },
  {
   "cell_type": "code",
   "execution_count": null,
   "metadata": {},
   "outputs": [],
   "source": [
    "dp.raw_viewer(df)\n",
    "dp.simple_viewer(df_global,5,0)\n",
    "dp.simple_viewer(df_pure,10,0)\n",
    "dp.simple_viewer(df_pure,11,0)\n",
    "dp.simple_viewer(df_block,130,0)"
   ]
  },
  {
   "cell_type": "markdown",
   "metadata": {},
   "source": [
    "# Filtro"
   ]
  },
  {
   "cell_type": "markdown",
   "metadata": {},
   "source": [
    "Se filtran ambos tipos de dataframes"
   ]
  },
  {
   "cell_type": "code",
   "execution_count": null,
   "metadata": {},
   "outputs": [],
   "source": [
    "df_pure_filtered = dp.filtrar(df_pure)\n",
    "df_global_filtered = dp.filtrar(df_global)"
   ]
  },
  {
   "cell_type": "markdown",
   "metadata": {},
   "source": [
    "Se filtra solo el dataframe de bloques"
   ]
  },
  {
   "cell_type": "code",
   "execution_count": null,
   "metadata": {},
   "outputs": [],
   "source": [
    "df_block_filtered = dp.filtrar(df_block)\n",
    "del df_block"
   ]
  },
  {
   "cell_type": "markdown",
   "metadata": {},
   "source": [
    "Visualización comparativa dataframe sin filtro y con filtro"
   ]
  },
  {
   "cell_type": "code",
   "execution_count": null,
   "metadata": {},
   "outputs": [],
   "source": [
    "dp.simple_viewer(df_block,130,0)\n",
    "dp.simple_viewer(df_block_filtered,130,0)"
   ]
  },
  {
   "cell_type": "markdown",
   "metadata": {},
   "source": [
    "# Extracción de características"
   ]
  },
  {
   "cell_type": "markdown",
   "metadata": {},
   "source": [
    "Dtaframes pure y global"
   ]
  },
  {
   "cell_type": "code",
   "execution_count": null,
   "metadata": {},
   "outputs": [],
   "source": [
    "df_pure_features = dp.gen_carac(df_pure_filtered)\n",
    "df_global_features = dp.gen_carac(df_global_filtered)"
   ]
  },
  {
   "cell_type": "markdown",
   "metadata": {},
   "source": [
    "Dataframe de bloques"
   ]
  },
  {
   "cell_type": "code",
   "execution_count": null,
   "metadata": {},
   "outputs": [],
   "source": [
    "df_block_features = dp.gen_carac(df_block_filtered)"
   ]
  },
  {
   "cell_type": "code",
   "execution_count": null,
   "metadata": {},
   "outputs": [],
   "source": [
    "df_block_features.describe()"
   ]
  },
  {
   "cell_type": "markdown",
   "metadata": {},
   "source": [
    "# Normalización"
   ]
  },
  {
   "cell_type": "code",
   "execution_count": 14,
   "metadata": {},
   "outputs": [],
   "source": [
    "df_pure_normalized = dp.normalizar(df_pure_features)\n",
    "df_global_normalized = dp.normalizar(df_global_features)"
   ]
  },
  {
   "cell_type": "code",
   "execution_count": 15,
   "metadata": {},
   "outputs": [],
   "source": [
    "df_block_normalized = dp.normalizar(df_block_features)"
   ]
  },
  {
   "cell_type": "code",
   "execution_count": null,
   "metadata": {},
   "outputs": [],
   "source": [
    "df_block_normalized.describe()"
   ]
  },
  {
   "cell_type": "markdown",
   "metadata": {},
   "source": [
    "# Creación de dataframes de entrenamiento y testeo"
   ]
  },
  {
   "cell_type": "markdown",
   "metadata": {},
   "source": [
    "Para el dataframe df_global"
   ]
  },
  {
   "cell_type": "code",
   "execution_count": 17,
   "metadata": {},
   "outputs": [],
   "source": [
    "y_global = df_global_normalized.iloc[:, -1]\n",
    "X_global = df_global_normalized.iloc[:, :-1]\n",
    "X_train_g, X_test_g, y_train_g, y_test_g = train_test_split(X_global, y_global,\n",
    "                                                    random_state=100,\n",
    "                                                    test_size=0.30,\n",
    "                                                    shuffle=True)"
   ]
  },
  {
   "cell_type": "markdown",
   "metadata": {},
   "source": [
    "Para el dataframe df_pure"
   ]
  },
  {
   "cell_type": "code",
   "execution_count": 18,
   "metadata": {},
   "outputs": [],
   "source": [
    "y_pure = df_pure_normalized.iloc[:, -1]\n",
    "X_pure = df_pure_normalized.iloc[:, :-1]\n",
    "X_train_p, X_test_p, y_train_p, y_test_p = train_test_split(X_pure, y_pure,\n",
    "                                                    random_state=100,\n",
    "                                                    test_size=0.30,\n",
    "                                                    shuffle=True)"
   ]
  },
  {
   "cell_type": "markdown",
   "metadata": {},
   "source": [
    "Para el dataframe df_block"
   ]
  },
  {
   "cell_type": "code",
   "execution_count": 19,
   "metadata": {},
   "outputs": [],
   "source": [
    "y_block = df_block_normalized.iloc[:, -1]\n",
    "X_block = df_block_normalized.iloc[:, :-1]\n",
    "X_train_b, X_test_b, y_train_b, y_test_b = train_test_split(X_block, y_block,\n",
    "                                                    random_state=100,\n",
    "                                                    test_size=0.30,\n",
    "                                                    shuffle=True)"
   ]
  },
  {
   "cell_type": "code",
   "execution_count": null,
   "metadata": {},
   "outputs": [],
   "source": [
    "print(X_train_g.shape,y_train_g.shape)\n",
    "print(X_train_p.shape,y_train_p.shape)\n",
    "print(X_train_b.shape,y_train_b.shape)"
   ]
  },
  {
   "cell_type": "markdown",
   "metadata": {},
   "source": [
    "# Entrenamiento y testeo del modelo"
   ]
  },
  {
   "cell_type": "code",
   "execution_count": 21,
   "metadata": {},
   "outputs": [],
   "source": [
    "from sklearn.ensemble import RandomForestClassifier\n",
    "from sklearn.metrics import accuracy_score, confusion_matrix, classification_report"
   ]
  },
  {
   "cell_type": "markdown",
   "metadata": {},
   "source": [
    "Entrenamiento"
   ]
  },
  {
   "cell_type": "markdown",
   "metadata": {},
   "source": [
    "Modelo global"
   ]
  },
  {
   "cell_type": "code",
   "execution_count": null,
   "metadata": {},
   "outputs": [],
   "source": [
    "rf_g = RandomForestClassifier(\n",
    "    max_depth=20,             # Profundidad máxima de los árboles\n",
    "    criterion='entropy',      # Criterio de medida para la calidad de la división ('entropy' o 'gini')\n",
    "    min_samples_split=4,      # Número mínimo de muestras requeridas para dividir un nodo\n",
    "    random_state=99,          # Para reproducibilidad del modelo\n",
    "    n_estimators=3000,        # Número de árboles en el bosque\n",
    "    verbose=1,                # Imprimir información durante el entrenamiento\n",
    "    oob_score=True,           # Calcular la precisión del modelo fuera de la bolsa (OOB)\n",
    "    n_jobs=-1                 # Usar todos los procesadores disponibles para acelerar el entrenamiento\n",
    ")\n",
    "rf_g.fit(X_train_g, y_train_g)"
   ]
  },
  {
   "cell_type": "markdown",
   "metadata": {},
   "source": [
    "Modelo puro"
   ]
  },
  {
   "cell_type": "code",
   "execution_count": null,
   "metadata": {},
   "outputs": [],
   "source": [
    "rf_p = RandomForestClassifier(\n",
    "    max_depth=20,             # Profundidad máxima de los árboles\n",
    "    criterion='entropy',      # Criterio de medida para la calidad de la división ('entropy' o 'gini')\n",
    "    min_samples_split=4,      # Número mínimo de muestras requeridas para dividir un nodo\n",
    "    random_state=99,          # Para reproducibilidad del modelo\n",
    "    n_estimators=3000,        # Número de árboles en el bosque\n",
    "    verbose=1,                # Imprimir información durante el entrenamiento\n",
    "    oob_score=True,           # Calcular la precisión del modelo fuera de la bolsa (OOB)\n",
    "    n_jobs=-1                 # Usar todos los procesadores disponibles para acelerar el entrenamiento\n",
    ")\n",
    "rf_p.fit(X_train_p, y_train_p)"
   ]
  },
  {
   "cell_type": "markdown",
   "metadata": {},
   "source": [
    "Modelo bloque"
   ]
  },
  {
   "cell_type": "code",
   "execution_count": null,
   "metadata": {},
   "outputs": [],
   "source": [
    "rf_b = RandomForestClassifier(\n",
    "    max_depth=20,             # Profundidad máxima de los árboles\n",
    "    criterion='entropy',      # Criterio de medida para la calidad de la división ('entropy' o 'gini')\n",
    "    min_samples_split=4,      # Número mínimo de muestras requeridas para dividir un nodo\n",
    "    random_state=99,          # Para reproducibilidad del modelo\n",
    "    n_estimators=3000,        # Número de árboles en el bosque\n",
    "    verbose=1,                # Imprimir información durante el entrenamiento\n",
    "    oob_score=True,           # Calcular la precisión del modelo fuera de la bolsa (OOB)\n",
    "    n_jobs=-1                 # Usar todos los procesadores disponibles para acelerar el entrenamiento\n",
    ")\n",
    "rf_b.fit(X_train_b, y_train_b)"
   ]
  },
  {
   "cell_type": "markdown",
   "metadata": {},
   "source": [
    "Testeo"
   ]
  },
  {
   "cell_type": "markdown",
   "metadata": {},
   "source": [
    "Global"
   ]
  },
  {
   "cell_type": "code",
   "execution_count": null,
   "metadata": {},
   "outputs": [],
   "source": [
    "y_pred_g = rf_g.predict(X_test_g)"
   ]
  },
  {
   "cell_type": "markdown",
   "metadata": {},
   "source": [
    "Puro"
   ]
  },
  {
   "cell_type": "code",
   "execution_count": null,
   "metadata": {},
   "outputs": [],
   "source": [
    "y_pred_p = rf_p.predict(X_test_p)"
   ]
  },
  {
   "cell_type": "markdown",
   "metadata": {},
   "source": [
    "Bloque"
   ]
  },
  {
   "cell_type": "code",
   "execution_count": null,
   "metadata": {},
   "outputs": [],
   "source": [
    "y_pred_b = rf_b.predict(X_test_b)"
   ]
  },
  {
   "cell_type": "markdown",
   "metadata": {},
   "source": [
    "# Resultados"
   ]
  },
  {
   "cell_type": "markdown",
   "metadata": {},
   "source": [
    "Matriz de confusión"
   ]
  },
  {
   "cell_type": "markdown",
   "metadata": {},
   "source": [
    "Global"
   ]
  },
  {
   "cell_type": "code",
   "execution_count": null,
   "metadata": {},
   "outputs": [],
   "source": [
    "confusion_matrix(y_test_g, y_pred_g)"
   ]
  },
  {
   "cell_type": "markdown",
   "metadata": {},
   "source": [
    "Puro"
   ]
  },
  {
   "cell_type": "code",
   "execution_count": null,
   "metadata": {},
   "outputs": [],
   "source": [
    "confusion_matrix(y_test_p, y_pred_p)"
   ]
  },
  {
   "cell_type": "markdown",
   "metadata": {},
   "source": [
    "Bloque"
   ]
  },
  {
   "cell_type": "code",
   "execution_count": null,
   "metadata": {},
   "outputs": [],
   "source": [
    "confusion_matrix(y_test_b, y_pred_b)"
   ]
  },
  {
   "cell_type": "markdown",
   "metadata": {},
   "source": [
    "Precisión"
   ]
  },
  {
   "cell_type": "markdown",
   "metadata": {},
   "source": [
    "Global"
   ]
  },
  {
   "cell_type": "code",
   "execution_count": null,
   "metadata": {},
   "outputs": [],
   "source": [
    "accuracy_score(y_pred_g, y_test_g)"
   ]
  },
  {
   "cell_type": "markdown",
   "metadata": {},
   "source": [
    "Puro"
   ]
  },
  {
   "cell_type": "code",
   "execution_count": null,
   "metadata": {},
   "outputs": [],
   "source": [
    "accuracy_score(y_pred_p, y_test_p)"
   ]
  },
  {
   "cell_type": "markdown",
   "metadata": {},
   "source": [
    "Bloque"
   ]
  },
  {
   "cell_type": "code",
   "execution_count": null,
   "metadata": {},
   "outputs": [],
   "source": [
    "accuracy_score(y_pred_b, y_test_b)"
   ]
  },
  {
   "cell_type": "code",
   "execution_count": null,
   "metadata": {},
   "outputs": [],
   "source": [
    "print(classification_report(y_pred_g, y_test_g))\n",
    "print(classification_report(y_pred_p, y_test_p))\n",
    "print(classification_report(y_pred_b, y_test_b))"
   ]
  }
 ],
 "metadata": {
  "kernelspec": {
   "display_name": "Python 3",
   "language": "python",
   "name": "python3"
  },
  "language_info": {
   "codemirror_mode": {
    "name": "ipython",
    "version": 3
   },
   "file_extension": ".py",
   "mimetype": "text/x-python",
   "name": "python",
   "nbconvert_exporter": "python",
   "pygments_lexer": "ipython3",
   "version": "3.11.4"
  }
 },
 "nbformat": 4,
 "nbformat_minor": 2
}
