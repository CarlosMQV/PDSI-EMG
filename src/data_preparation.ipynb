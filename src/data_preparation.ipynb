{
 "cells": [
  {
   "cell_type": "markdown",
   "metadata": {},
   "source": [
    "# Importamos librerías"
   ]
  },
  {
   "cell_type": "code",
   "execution_count": 1,
   "metadata": {},
   "outputs": [],
   "source": [
    "import bigdata_processor as bdp"
   ]
  },
  {
   "cell_type": "code",
   "execution_count": 2,
   "metadata": {},
   "outputs": [],
   "source": [
    "import pandas as pd\n",
    "import pyarrow.parquet as pq"
   ]
  },
  {
   "cell_type": "markdown",
   "metadata": {},
   "source": [
    "# Creación del parquet con todos los datos a trabajar"
   ]
  },
  {
   "cell_type": "markdown",
   "metadata": {},
   "source": [
    "Solo debe ejecutarse una vez, ya que se almacena en la ruta correspondiente"
   ]
  },
  {
   "cell_type": "code",
   "execution_count": null,
   "metadata": {},
   "outputs": [],
   "source": [
    "bdp.lectura()"
   ]
  },
  {
   "cell_type": "markdown",
   "metadata": {},
   "source": [
    "Extracción de información: Este proceso no tiene coste computacional, puede ejecutarse con total seguridad"
   ]
  },
  {
   "cell_type": "code",
   "execution_count": 3,
   "metadata": {},
   "outputs": [
    {
     "name": "stdout",
     "output_type": "stream",
     "text": [
      "El archivo tiene 130235236 filas y 18 columnas.\n"
     ]
    }
   ],
   "source": [
    "parquet_file = pq.ParquetFile('../dataframes/df.parquet')\n",
    "total_rows = parquet_file.metadata.num_rows\n",
    "total_columns = parquet_file.metadata.num_columns\n",
    "print(f\"El archivo tiene {total_rows} filas y {total_columns} columnas.\")"
   ]
  },
  {
   "cell_type": "markdown",
   "metadata": {},
   "source": [
    "# Creación de dataframe en bloques"
   ]
  },
  {
   "cell_type": "code",
   "execution_count": 2,
   "metadata": {},
   "outputs": [
    {
     "name": "stderr",
     "output_type": "stream",
     "text": [
      "Procesando bloques: 100%|██████████| 127/127 [33:02<00:00, 15.61s/it]\n"
     ]
    }
   ],
   "source": [
    "bdp.create_df_block()"
   ]
  },
  {
   "cell_type": "markdown",
   "metadata": {},
   "source": [
    "Extracción de información: Este proceso no tiene coste computacional, puede ejecutarse con total seguridad"
   ]
  },
  {
   "cell_type": "code",
   "execution_count": 4,
   "metadata": {},
   "outputs": [
    {
     "name": "stdout",
     "output_type": "stream",
     "text": [
      "El archivo tiene 15429 filas y 15 columnas.\n"
     ]
    }
   ],
   "source": [
    "parquet_file = pq.ParquetFile('../dataframes/df_block.parquet')\n",
    "total_rows = parquet_file.metadata.num_rows\n",
    "total_columns = parquet_file.metadata.num_columns\n",
    "print(f\"El archivo tiene {total_rows} filas y {total_columns} columnas.\")"
   ]
  }
 ],
 "metadata": {
  "kernelspec": {
   "display_name": "Python 3",
   "language": "python",
   "name": "python3"
  },
  "language_info": {
   "codemirror_mode": {
    "name": "ipython",
    "version": 3
   },
   "file_extension": ".py",
   "mimetype": "text/x-python",
   "name": "python",
   "nbconvert_exporter": "python",
   "pygments_lexer": "ipython3",
   "version": "3.12.6"
  }
 },
 "nbformat": 4,
 "nbformat_minor": 2
}
