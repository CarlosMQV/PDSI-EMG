{
  "nbformat": 4,
  "nbformat_minor": 0,
  "metadata": {
    "colab": {
      "provenance": []
    },
    "kernelspec": {
      "name": "python3",
      "display_name": "Python 3"
    },
    "accelerator": "GPU"
  },
  "cells": [
    {
      "cell_type": "markdown",
      "source": [
        "# Pytorch"
      ],
      "metadata": {
        "id": "-sfd5y_LexZx"
      }
    },
    {
      "cell_type": "markdown",
      "source": [
        "## Instalaciones"
      ],
      "metadata": {
        "id": "tQGP2l2Ee2zU"
      }
    },
    {
      "metadata": {
        "id": "PtKvmZx-WmUu",
        "colab": {
          "base_uri": "https://localhost:8080/"
        },
        "outputId": "15004456-a132-4c20-8a6b-7ea7aeac9f8d"
      },
      "cell_type": "code",
      "source": [
        "!pip install torch\n",
        "!pip install torchvision"
      ],
      "execution_count": null,
      "outputs": [
        {
          "output_type": "stream",
          "name": "stdout",
          "text": [
            "Requirement already satisfied: torch in /usr/local/lib/python3.10/dist-packages (2.4.1+cu121)\n",
            "Requirement already satisfied: filelock in /usr/local/lib/python3.10/dist-packages (from torch) (3.16.1)\n",
            "Requirement already satisfied: typing-extensions>=4.8.0 in /usr/local/lib/python3.10/dist-packages (from torch) (4.12.2)\n",
            "Requirement already satisfied: sympy in /usr/local/lib/python3.10/dist-packages (from torch) (1.13.3)\n",
            "Requirement already satisfied: networkx in /usr/local/lib/python3.10/dist-packages (from torch) (3.3)\n",
            "Requirement already satisfied: jinja2 in /usr/local/lib/python3.10/dist-packages (from torch) (3.1.4)\n",
            "Requirement already satisfied: fsspec in /usr/local/lib/python3.10/dist-packages (from torch) (2024.6.1)\n",
            "Requirement already satisfied: MarkupSafe>=2.0 in /usr/local/lib/python3.10/dist-packages (from jinja2->torch) (2.1.5)\n",
            "Requirement already satisfied: mpmath<1.4,>=1.1.0 in /usr/local/lib/python3.10/dist-packages (from sympy->torch) (1.3.0)\n",
            "Requirement already satisfied: torchvision in /usr/local/lib/python3.10/dist-packages (0.19.1+cu121)\n",
            "Requirement already satisfied: numpy in /usr/local/lib/python3.10/dist-packages (from torchvision) (1.26.4)\n",
            "Requirement already satisfied: torch==2.4.1 in /usr/local/lib/python3.10/dist-packages (from torchvision) (2.4.1+cu121)\n",
            "Requirement already satisfied: pillow!=8.3.*,>=5.3.0 in /usr/local/lib/python3.10/dist-packages (from torchvision) (10.4.0)\n",
            "Requirement already satisfied: filelock in /usr/local/lib/python3.10/dist-packages (from torch==2.4.1->torchvision) (3.16.1)\n",
            "Requirement already satisfied: typing-extensions>=4.8.0 in /usr/local/lib/python3.10/dist-packages (from torch==2.4.1->torchvision) (4.12.2)\n",
            "Requirement already satisfied: sympy in /usr/local/lib/python3.10/dist-packages (from torch==2.4.1->torchvision) (1.13.3)\n",
            "Requirement already satisfied: networkx in /usr/local/lib/python3.10/dist-packages (from torch==2.4.1->torchvision) (3.3)\n",
            "Requirement already satisfied: jinja2 in /usr/local/lib/python3.10/dist-packages (from torch==2.4.1->torchvision) (3.1.4)\n",
            "Requirement already satisfied: fsspec in /usr/local/lib/python3.10/dist-packages (from torch==2.4.1->torchvision) (2024.6.1)\n",
            "Requirement already satisfied: MarkupSafe>=2.0 in /usr/local/lib/python3.10/dist-packages (from jinja2->torch==2.4.1->torchvision) (2.1.5)\n",
            "Requirement already satisfied: mpmath<1.4,>=1.1.0 in /usr/local/lib/python3.10/dist-packages (from sympy->torch==2.4.1->torchvision) (1.3.0)\n"
          ]
        }
      ]
    },
    {
      "cell_type": "markdown",
      "source": [
        "## Importar dependencias"
      ],
      "metadata": {
        "id": "3dr3HMvje_kV"
      }
    },
    {
      "metadata": {
        "id": "bGU6NwlsXFSt"
      },
      "cell_type": "code",
      "source": [
        "import torch\n",
        "import torch.nn as nn\n",
        "import torchvision.datasets as dsets\n",
        "import torchvision.transforms as transforms\n",
        "from torch.autograd import Variable"
      ],
      "execution_count": null,
      "outputs": []
    },
    {
      "cell_type": "markdown",
      "source": [
        "## Definir Hiperparámetros"
      ],
      "metadata": {
        "id": "RbUo8FmkfFB1"
      }
    },
    {
      "metadata": {
        "id": "_bNfVLRUYqZA"
      },
      "cell_type": "code",
      "source": [
        "input_size = 784\n",
        "hidden_size = 128\n",
        "num_classes = 10\n",
        "num_epochs = 5\n",
        "batch_size = 100\n",
        "lr = 1e-3"
      ],
      "execution_count": null,
      "outputs": []
    },
    {
      "cell_type": "markdown",
      "source": [
        "## Descargando la base de datos mnist"
      ],
      "metadata": {
        "id": "DM48UlJ9gMOE"
      }
    },
    {
      "metadata": {
        "id": "lCsBCXMwbpH5"
      },
      "cell_type": "code",
      "source": [
        "train_data = dsets.FashionMNIST(root='./data', train=True,\n",
        "                                transform=transforms.ToTensor(), download=True)\n",
        "\n",
        "test_data = dsets.FashionMNIST(root='./data', train=False,\n",
        "                               transform=transforms.ToTensor())"
      ],
      "execution_count": null,
      "outputs": []
    },
    {
      "cell_type": "markdown",
      "source": [
        "## Leyendo la data"
      ],
      "metadata": {
        "id": "WpMOKBJkhisv"
      }
    },
    {
      "metadata": {
        "id": "rfDPBdnYgfGp"
      },
      "cell_type": "code",
      "source": [
        "train_gen = torch.utils.data.DataLoader(dataset = train_data,\n",
        "                                             batch_size = batch_size,\n",
        "                                             shuffle = True)\n",
        "\n",
        "test_gen = torch.utils.data.DataLoader(dataset = test_data,\n",
        "                                      batch_size = batch_size,\n",
        "                                      shuffle = False)"
      ],
      "execution_count": null,
      "outputs": []
    },
    {
      "cell_type": "markdown",
      "source": [
        "## Definir modelo"
      ],
      "metadata": {
        "id": "jhaazXo-h9-v"
      }
    },
    {
      "metadata": {
        "id": "fL-YXTvghaz_"
      },
      "cell_type": "code",
      "source": [
        "class Net(nn.Module):\n",
        "  def __init__(self, input_size, hidden_size, num_classes):\n",
        "    super().__init__()\n",
        "    self.fc1 = nn.Linear(input_size, hidden_size)\n",
        "    self.relu = nn.ReLU()\n",
        "    self.drop = nn.Dropout(0.2)\n",
        "    self.fc2 = nn.Linear(hidden_size, num_classes)\n",
        "\n",
        "  def forward(self,x):\n",
        "    out = self.fc1(x)\n",
        "    out = self.relu(out)\n",
        "    out = self.drop(out)\n",
        "    out = self.fc2(out)\n",
        "    return out"
      ],
      "execution_count": null,
      "outputs": []
    },
    {
      "cell_type": "markdown",
      "source": [
        "## Instancia del modelo"
      ],
      "metadata": {
        "id": "uQdjiXCeiNiu"
      }
    },
    {
      "metadata": {
        "id": "-3EPEqbjjfAT"
      },
      "cell_type": "code",
      "source": [
        "net = Net(input_size, hidden_size, num_classes)\n",
        "\n",
        "if torch.cuda.is_available():\n",
        "  net.cuda()"
      ],
      "execution_count": null,
      "outputs": []
    },
    {
      "cell_type": "markdown",
      "source": [
        "## Compilación"
      ],
      "metadata": {
        "id": "QNgkx4xtipMA"
      }
    },
    {
      "metadata": {
        "id": "ePLIwvAFj2zH"
      },
      "cell_type": "code",
      "source": [
        "loss_function = nn.CrossEntropyLoss()\n",
        "optimizer = torch.optim.Adam(net.parameters(), lr=lr)"
      ],
      "execution_count": null,
      "outputs": []
    },
    {
      "cell_type": "markdown",
      "source": [
        "## Entrenamiento"
      ],
      "metadata": {
        "id": "KD3x_O7si_zS"
      }
    },
    {
      "metadata": {
        "id": "u75Xa5VckuTH",
        "colab": {
          "base_uri": "https://localhost:8080/"
        },
        "outputId": "a04117a4-65a9-4c1b-ea87-0d4853a77813"
      },
      "cell_type": "code",
      "source": [
        "for epoch in range(num_epochs):\n",
        "  for i, (images, labels) in enumerate(train_gen):\n",
        "    images = images.view(-1, 28*28).cuda()\n",
        "    labels = labels.cuda()\n",
        "\n",
        "    optimizer.zero_grad()\n",
        "    outputs = net(images)\n",
        "    loss = loss_function(outputs, labels)\n",
        "    loss.backward()\n",
        "    optimizer.step()\n",
        "\n",
        "    if (i + 1) % 100 == 0:\n",
        "        print('Epoca [%d/%d], Step [%d/%d], Loss: %.4f'\n",
        "              % (epoch + 1, num_epochs, i + 1, len(train_data) // batch_size, loss.item()))\n"
      ],
      "execution_count": null,
      "outputs": [
        {
          "output_type": "stream",
          "name": "stdout",
          "text": [
            "Epoca [1/5], Step [100/600], Loss: 0.7294\n",
            "Epoca [1/5], Step [200/600], Loss: 0.6229\n",
            "Epoca [1/5], Step [300/600], Loss: 0.5962\n",
            "Epoca [1/5], Step [400/600], Loss: 0.6795\n",
            "Epoca [1/5], Step [500/600], Loss: 0.4066\n",
            "Epoca [1/5], Step [600/600], Loss: 0.3599\n",
            "Epoca [2/5], Step [100/600], Loss: 0.4830\n",
            "Epoca [2/5], Step [200/600], Loss: 0.4294\n",
            "Epoca [2/5], Step [300/600], Loss: 0.3679\n",
            "Epoca [2/5], Step [400/600], Loss: 0.3294\n",
            "Epoca [2/5], Step [500/600], Loss: 0.3733\n",
            "Epoca [2/5], Step [600/600], Loss: 0.4362\n",
            "Epoca [3/5], Step [100/600], Loss: 0.4667\n",
            "Epoca [3/5], Step [200/600], Loss: 0.3739\n",
            "Epoca [3/5], Step [300/600], Loss: 0.3629\n",
            "Epoca [3/5], Step [400/600], Loss: 0.4732\n",
            "Epoca [3/5], Step [500/600], Loss: 0.4111\n",
            "Epoca [3/5], Step [600/600], Loss: 0.1678\n",
            "Epoca [4/5], Step [100/600], Loss: 0.2814\n",
            "Epoca [4/5], Step [200/600], Loss: 0.4091\n",
            "Epoca [4/5], Step [300/600], Loss: 0.3110\n",
            "Epoca [4/5], Step [400/600], Loss: 0.2562\n",
            "Epoca [4/5], Step [500/600], Loss: 0.3436\n",
            "Epoca [4/5], Step [600/600], Loss: 0.3182\n",
            "Epoca [5/5], Step [100/600], Loss: 0.3775\n",
            "Epoca [5/5], Step [200/600], Loss: 0.2380\n",
            "Epoca [5/5], Step [300/600], Loss: 0.3515\n",
            "Epoca [5/5], Step [400/600], Loss: 0.4072\n",
            "Epoca [5/5], Step [500/600], Loss: 0.4225\n",
            "Epoca [5/5], Step [600/600], Loss: 0.3445\n"
          ]
        }
      ]
    },
    {
      "cell_type": "markdown",
      "source": [
        "## Evaluación del modelo en los datos de prueba"
      ],
      "metadata": {
        "id": "ll6rzaHCA2Gu"
      }
    },
    {
      "metadata": {
        "id": "DTPvMW5jHB9X",
        "colab": {
          "base_uri": "https://localhost:8080/"
        },
        "outputId": "6a426467-5b49-4df9-937d-9a1b754ae6fb"
      },
      "cell_type": "code",
      "source": [
        "correct = 0\n",
        "total = 0\n",
        "for images, labels in test_gen:\n",
        "    images = images.view(-1, 28 * 28).cuda()  # Aplanar las imágenes\n",
        "    labels = labels.cuda()\n",
        "\n",
        "    outputs = net(images)\n",
        "    _, predicted = torch.max(outputs, 1)\n",
        "    correct += (predicted == labels).sum().item()  # Convertir a escalar\n",
        "    total += labels.size(0)\n",
        "\n",
        "# Calcular la precisión (accuracy)\n",
        "print('Accuracy: %.3f %%' % (100 * correct / total))"
      ],
      "execution_count": null,
      "outputs": [
        {
          "output_type": "stream",
          "name": "stdout",
          "text": [
            "Accuracy: 86.160 %\n"
          ]
        }
      ]
    }
  ]
}